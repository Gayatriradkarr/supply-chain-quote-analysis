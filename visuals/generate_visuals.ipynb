{
 "cells": [
  {
   "cell_type": "markdown",
   "metadata": {},
   "source": [
    "# Supplier Quote Data Visualizations\n",
    "\n",
    
   ]
  },
  {
   "cell_type": "code",
   "execution_count": null,
   "metadata": {},
   "outputs": [],
   "source": [
    "import pandas as pd\n",
    "import matplotlib.pyplot as plt\n",
    "import seaborn as sns\n",
    "from pathlib import Path\n",
    "\n",
    "# Set up file paths\n",
    "DATA_DIR = Path('../data')\n",
    "VISUALS_DIR = Path('../visuals')\n",
    "INPUT_FILE = DATA_DIR / 'Supplier_Quote_Data.xlsx'\n",
    "VISUALS_DIR.mkdir(exist_ok=True)\n",
    "\n",
    "# Load data\n",
    "df = pd.read_excel(INPUT_FILE)\n",
    "print('Data Shape:', df.shape)\n",
    "df.head()"
   ]
  },
  {
   "cell_type": "code",
   "execution_count": null,
   "metadata": {},
   "outputs": [],
   "source": [
    "# Visualization 1: Unit Cost vs. MOQ Scatter Plot\n",
    "plt.figure(figsize=(10, 6))\n",
    "sns.scatterplot(data=df, x='MOQ', y='Unit_Cost', hue='Vendor_Name', size='Quality_Rating', sizes=(50, 200))\n",
    "plt.title('Unit Cost vs. MOQ by Vendor')\n",
    "plt.xlabel('Minimum Order Quantity (MOQ)')\n",
    "plt.ylabel('Unit Cost (USD)')\n",
    "plt.legend(title='Vendor', bbox_to_anchor=(1.05, 1), loc='upper left')\n",
    "plt.grid(True)\n",
    "plt.tight_layout()\n",
    "plt.savefig(VISUALS_DIR / 'Unit_Cost_vs_MOQ.png', dpi=300)\n",
    "plt.show()"
   ]
  },
  {
   "cell_type": "code",
   "execution_count": null,
   "metadata": {},
   "outputs": [],
   "source": [
    "# Visualization 2: Cost Variation by Part Box Plot\n",
    "plt.figure(figsize=(10, 6))\n",
    "sns.boxplot(data=df, x='Part_Number', y='Unit_Cost', hue='Part_Number')\n",
    "plt.title('Cost Variation by Part')\n",
    "plt.xlabel('Part Number')\n",
    "plt.ylabel('Unit Cost (USD)')\n",
    "plt.xticks(rotation=45)\n",
    "plt.grid(True)\n",
    "plt.tight_layout()\n",
    "plt.savefig(VISUALS_DIR / 'Cost_Variation_by_Part.png', dpi=300)\n",
    "plt.show()"
   ]
  },
  {
   "cell_type": "code",
   "execution_count": null,
   "metadata": {},
   "outputs": [],
   "source": [
    "# Visualization 3: Lead Time by Vendor Bar Chart\n",
    "lead_time_avg = df.groupby('Vendor_Name')['Lead_Time_Days'].mean().reset_index()\n",
    "plt.figure(figsize=(10, 6))\n",
    "sns.barplot(data=lead_time_avg, x='Vendor_Name', y='Lead_Time_Days', hue='Vendor_Name')\n",
    "plt.title('Average Lead Time by Vendor')\n",
    "plt.xlabel('Vendor')\n",
    "plt.ylabel('Average Lead Time (Days)')\n",
    "plt.axhline(y=df['Lead_Time_Days'].mean(), color='red', linestyle='--', label='Average Lead Time')\n",
    "plt.legend()\n",
    "plt.xticks(rotation=45)\n",
    "plt.grid(True)\n",
    "plt.tight_layout()\n",
    "plt.savefig(VISUALS_DIR / 'Lead_Time_by_Vendor.png', dpi=300)\n",
    "plt.show()"
   ]
  },
  {
   "cell_type": "code",
   "execution_count": null,
   "metadata": {},
   "outputs": [],
   "source": [
    "# Save data for Tableau\n",
    "df.to_csv(DATA_DIR / 'Supplier_Quote_Data_for_Tableau.csv', index=False)\n",
    "lead_time_avg.to_csv(DATA_DIR / 'Lead_Time_Avg_by_Vendor.csv', index=False)\n",
    "print('Data and visuals saved successfully.')"
   ]
  }
 ],
 "metadata": {
  "kernelspec": {
   "display_name": "Python 3",
   "language": "python",
   "name": "python3"
  }
 },
 "nbformat": 4,
 "nbformat_minor": 2
}
