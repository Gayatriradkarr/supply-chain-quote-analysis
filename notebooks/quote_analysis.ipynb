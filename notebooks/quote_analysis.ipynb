# Supply Chain Quote Analysis

## Step 1: Load Data
import pandas as pd
df = pd.read_excel('data/supplier_quotes.xlsx')

## Step 2: Cost Variation Analysis
cost_variance = df.groupby('part_id')['unit_cost'].std()
print(cost_variance.sort_values(ascending=False))

## Step 3: Lead Time Outliers
df['lead_time_flag'] = df['lead_time'] > df['lead_time'].quantile(0.95)

## Step 4: MOQ vs Cost Visualization
import seaborn as sns
sns.scatterplot(data=df, x='MOQ', y='unit_cost', hue='vendor')

## Step 5: Export Insights
df[df['lead_time_flag']].to_excel('flagged_suppliers.xlsx', index=False)

