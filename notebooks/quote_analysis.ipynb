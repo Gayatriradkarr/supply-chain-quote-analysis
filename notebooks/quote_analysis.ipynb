# quote_analysis.ipynb

import pandas as pd
import matplotlib.pyplot as plt
import seaborn as sns

# Sample supplier quote data
data = {
    'vendor': ['V001', 'V002', 'V003', 'V001', 'V002', 'V003'],
    'part_id': ['P001', 'P001', 'P001', 'P002', 'P002', 'P002'],
    'unit_cost': [12.5, 14.0, 13.2, 9.0, 10.5, 9.8],
    'MOQ': [100, 100, 100, 50, 50, 50],
    'lead_time_days': [7, 10, 8, 5, 7, 6]
}
df = pd.DataFrame(data)

# Save sample data
df.to_csv('supplier_quotes.csv', index=False)

# Cost Variance Chart
plt.figure(figsize=(8, 4))
sns.barplot(x='vendor', y='unit_cost', hue='part_id', data=df)
plt.title('Cost Variance Across Vendors')
plt.savefig('cost_variance_chart.png')

# Unit Cost vs MOQ
plt.figure(figsize=(8, 4))
sns.scatterplot(x='MOQ', y='unit_cost', hue='vendor', data=df, s=100)
plt.title('Unit Cost vs MOQ')
plt.savefig('unit_cost_vs_moq.png')

# Lead Time Outliers
plt.figure(figsize=(8, 4))
sns.boxplot(x='vendor', y='lead_time_days', data=df)
plt.title('Lead Time by Vendor')
plt.savefig('lead_time_outliers.png')


## Step 5: Export Insights
df[df['lead_time_flag']].to_excel('flagged_suppliers.xlsx', index=False)


