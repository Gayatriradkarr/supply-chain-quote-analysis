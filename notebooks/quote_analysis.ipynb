# Supply Chain Quote Analysis

## Step 1: Load Data
import pandas as pd
df = pd.read_excel('data/supplier_quotes.xlsx')  # Ensure this file exists

## Step 2: Cost Variation Analysis
cost_variance = df.groupby('part_id')['unit_cost'].std()
print("Cost Variance by Part:")
print(cost_variance.sort_values(ascending=False))

## Step 3: Lead Time Outliers
lead_time_threshold = df['lead_time'].quantile(0.95)
df['lead_time_flag'] = df['lead_time'] > lead_time_threshold
print(f"\nLead Time Outlier Threshold: {lead_time_threshold}")
print("Flagged Suppliers:")
print(df[df['lead_time_flag']])

## Step 4: MOQ vs Cost Visualization
import seaborn as sns
import matplotlib.pyplot as plt
sns.set(style="whitegrid")
sns.scatterplot(data=df, x='MOQ', y='unit_cost', hue='vendor')
plt.title("Unit Cost vs MOQ by Vendor")
plt.xlabel("Minimum Order Quantity (MOQ)")
plt.ylabel("Unit Cost")
plt.tight_layout()
plt.savefig('visuals/vendor_cost_dashboard.png')  # Save plot
plt.show()

## Step 5: Export Insights
df[df['lead_time_flag']].to_excel('flagged_suppliers.xlsx', index=False)


