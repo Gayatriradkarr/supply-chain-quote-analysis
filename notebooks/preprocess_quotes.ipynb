{
 "cells": [
  {
   "cell_type": "markdown",
   "metadata": {},
   "source": [
    "# Supplier Quote Data Preprocessing\n",
    "\n",
    "This notebook loads the supplier quote data from `Supplier_Quote_Data.xlsx`, cleans it, and prepares it for analysis and Tableau visualization. It handles missing values, validates data types, and recalculates computed fields."
   ]
  },
  {
   "cell_type": "code",
   "execution_count": null,
   "metadata": {},
   "outputs": [],
   "source": [
    "import pandas as pd\n",
    "import numpy as np\n",
    "from pathlib import Path\n",
    "\n",
    "# Set up file paths\n",
    "DATA_DIR = Path('../data')\n",
    "INPUT_FILE = DATA_DIR / 'Supplier_Quote_Data.xlsx'\n",
    "OUTPUT_FILE = DATA_DIR / 'Cleaned_Supplier_Quote_Data.xlsx'\n",
    "\n",
    "# Create data directory if it doesn't exist\n",
    "DATA_DIR.mkdir(exist_ok=True)\n",
    "\n",
    "# Load the data\n",
    "df = pd.read_excel(INPUT_FILE)\n",
    "print('Initial Data Shape:', df.shape)\n",
    "df.head()"
   ]
  },
  {
   "cell_type": "code",
   "execution_count": null,
   "metadata": {},
   "outputs": [],
   "source": [
    "# Check for missing values\n",
    "print('Missing Values:\\n', df.isnull().sum())\n",
    "\n",
    "# Handle missing values\n",
    "# - Fill missing Notes with 'None'\n",
    "# - Drop rows with missing critical fields (e.g., Unit_Cost, MOQ, Lead_Time_Days)\n",
    "df['Notes'] = df['Notes'].fillna('None')\n",
    "df = df.dropna(subset=['Unit_Cost', 'MOQ', 'Lead_Time_Days', 'Vendor_Name', 'Part_Number'])\n",
    "print('Data Shape after dropping missing values:', df.shape)"
   ]
  },
  {
   "cell_type": "code",
   "execution_count": null,
   "metadata": {},
   "outputs": [],
   "source": [
    "# Validate and convert data types\n",
    "df['Quote_Date'] = pd.to_datetime(df['Quote_Date'], errors='coerce')\n",
    "df['Unit_Cost'] = pd.to_numeric(df['Unit_Cost'], errors='coerce')\n",
    "df['MOQ'] = pd.to_numeric(df['MOQ'], errors='coerce')\n",
    "df['Lead_Time_Days'] = pd.to_numeric(df['Lead_Time_Days'], errors='coerce')\n",
    "df['Quality_Rating'] = pd.to_numeric(df['Quality_Rating'], errors='coerce')\n",
    "\n",
    "# Recalculate Total_Cost\n",
    "df['Total_Cost'] = df['Unit_Cost'] * df['MOQ']\n",
    "\n",
    "# Recalculate Lead_Time_Flag (Delayed if above average)\n",
    "df['Lead_Time_Flag'] = np.where(df['Lead_Time_Days'] > df['Lead_Time_Days'].mean(), 'Delayed', 'On-Time')\n",
    "\n",
    "# Recalculate Cost_Anomaly (High Cost if 15% above average)\n",
    "df['Cost_Anomaly'] = np.where(df['Unit_Cost'] > df['Unit_Cost'].mean() * 1.15, 'High Cost', 'Normal')\n",
    "\n",
    "print('Data Types:\\n', df.dtypes)\n",
    "df.head()"
   ]
  },
  {
   "cell_type": "code",
   "execution_count": null,
   "metadata": {},
   "outputs": [],
   "_.

source": [
    "# Save cleaned data\n",
    "df.to_excel(OUTPUT_FILE, index=False)\n",
    "print(f'Cleaned data saved to {OUTPUT_FILE}')"
   ]
  }
 ],
 "metadata": {
  "kernelspec": {
   "display_name": "Python 3",
   "language": "python",
   "name": "python3"
  }
 },
 "nbformat": 4,
 "nbformat_minor": 2
}