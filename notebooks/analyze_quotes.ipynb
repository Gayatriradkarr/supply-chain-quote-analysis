{
 "cells": [
  {
   "cell_type": "markdown",
   "metadata": {},
   "source": [
    "# Vendor Quote Analysis\n",
    "\n",
    "This notebook analyzes supplier quote data to identify cost variations, lead time delays, and sourcing inefficiencies. It generates insights and outputs for Tableau dashboards."
   ]
  },
  {
   "cell_type": "code",
   "execution_count": null,
   "metadata": {},
   "outputs": [],
   "source": [
    "import pandas as pd\n",
    "import matplotlib.pyplot as plt\n",
    "from pathlib import Path\n",
    "\n",
    "# Set up file paths\n",
    "DATA_DIR = Path('../data')\n",
    "VISUALS_DIR = Path('../visuals')\n",
    "INPUT_FILE = DATA_DIR / 'Cleaned_Supplier_Quote_Data.xlsx'\n",
    "VISUALS_DIR.mkdir(exist_ok=True)\n",
    "\n",
    "# Load cleaned data\n",
    "df = pd.read_excel(INPUT_FILE)\n",
    "print('Data Shape:', df.shape)\n",
    "df.head()"
   ]
  },
  {
   "cell_type": "code",
   "execution_count": null,
   "metadata": {},
   "outputs": [],
   "source": [
    "# Analyze cost variation by part\n",
    "cost_variation = df.groupby('Part_Number')['Unit_Cost'].agg(['mean', 'std', 'min', 'max']).reset_index()\n",
    "cost_variation['Variation_Percent'] = ((cost_variation['max'] - cost_variation['min']) / cost_variation['mean'] * 100).round(2)\n",
    "print('Cost Variation by Part:\\n', cost_variation)\n",
    "\n",
    "# Save to CSV for Tableau\n",
    "cost_variation.to_csv(DATA_DIR / 'Cost_Variation_by_Part.csv', index=False)"
   ]
  },
  {
   "cell_type": "code",
   "execution_count": null,
   "metadata": {},
   "outputs": [],
   "source": [
    "# Analyze lead time by vendor\n",
    "lead_time_analysis = df.groupby('Vendor_Name').agg({\n",
    "    'Lead_Time_Days': ['mean', 'count'],\n",
    "    'Lead_Time_Flag': lambda x: (x == 'Delayed').sum()\n",
    "}).reset_index()\n",
    "lead_time_analysis.columns = ['Vendor_Name', 'Avg_Lead_Time', 'Quote_Count', 'Delayed_Quotes']\n",
    "print('Lead Time Analysis:\\n', lead_time_analysis)\n",
    "\n",
    "# Save to CSV for Tableau\n",
    "lead_time_analysis.to_csv(DATA_DIR / 'Lead_Time_Analysis.csv', index=False)"
   ]
  },
  {
   "cell_type": "code",
   "execution_count": null,
   "metadata": {},
   "outputs": [],
   "source": [
    "# Visualize Unit Cost vs. MOQ\n",
    "plt.figure(figsize=(10, 6))\n",
    "for vendor in df['Vendor_Name'].unique():\n",
    "    vendor_data = df[df['Vendor_Name'] == vendor]\n",
    "    plt.scatter(vendor_data['MOQ'], vendor_data['Unit_Cost'], label=vendor, alpha=0.6)\n",
    "plt.xlabel('MOQ')\n",
    "plt.ylabel('Unit Cost (USD)')\n",
    "plt.title('Unit Cost vs. MOQ by Vendor')\n",
    "plt.legend()\n",
    "plt.grid(True)\n",
    "plt.savefig(VISUALS_DIR / 'Unit_Cost_vs_MOQ.png')\n",
    "plt.show()"
   ]
  },
  {
   "cell_type": "code",
   "execution_count": null,
   "metadata": {},
   "outputs": [],
   "source": [
    "# Generate summary insights\n",
    "high_cost_parts = cost_variation[cost_variation['Variation_Percent'] > 15]\n",
    "delayed_vendors = lead_time_analysis[lead_time_analysis['Delayed_Quotes'] > 0]\n",
    "print('Parts with >15% Cost Variation:\\n', high_cost_parts[['Part_Number', 'Variation_Percent']])\n",
    "print('Vendors with Delayed Quotes:\\n', delayed_vendors[['Vendor_Name', 'Delayed_Quotes', 'Avg_Lead_Time']])"
   ]
  }
 ],
 "metadata": {
  "kernelspec": {
   "display_name": "Python 3",
   "language": "python",
   "name": "python3"
  }
 },
 "nbformat": 4,
 "nbformat_minor": 2
}